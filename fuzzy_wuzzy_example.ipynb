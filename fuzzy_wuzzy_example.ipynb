{
 "cells": [
  {
   "cell_type": "code",
   "execution_count": 37,
   "metadata": {},
   "outputs": [],
   "source": [
    "from fuzzywuzzy import fuzz\n",
    "from fuzzywuzzy import process\n",
    "from tqdm import tqdm\n",
    "import pandas as pd"
   ]
  },
  {
   "cell_type": "markdown",
   "metadata": {},
   "source": [
    "Loading and viewing the join dictionary:"
   ]
  },
  {
   "cell_type": "code",
   "execution_count": 3,
   "metadata": {},
   "outputs": [
    {
     "data": {
      "text/plain": [
       "{'001-GILMER 1': '001-GILMER',\n",
       " '001-LIBERTY 1': '001-LIBERTY',\n",
       " '001-URSA 1': '001-URSA',\n",
       " '001-CLAYTON 1': '001-CLAYTON',\n",
       " '001-NORTHEAST 1': '001-NORTHEAST',\n",
       " '001-BURTON 1': '001-BURTON',\n",
       " '001-HONEY CREEK 1': '001-HONEY CREEK',\n",
       " '001-KEENE 1': '001-KEENE',\n",
       " '001-FALL CREEK 1': '001-FALL CREEK',\n",
       " '001-LIMA 1': '001-LIMA'}"
      ]
     },
     "execution_count": 3,
     "metadata": {},
     "output_type": "execute_result"
    }
   ],
   "source": [
    "from Il_2020_dict import election_vest_id_changes_dict\n",
    "dict(list(election_vest_id_changes_dict.items())[0:10])"
   ]
  },
  {
   "cell_type": "code",
   "execution_count": 4,
   "metadata": {},
   "outputs": [
    {
     "data": {
      "text/plain": [
       "6137"
      ]
     },
     "execution_count": 4,
     "metadata": {},
     "output_type": "execute_result"
    }
   ],
   "source": [
    "len(election_vest_id_changes_dict)"
   ]
  },
  {
   "cell_type": "markdown",
   "metadata": {},
   "source": [
    "Examples with fuzzywuzzy:"
   ]
  },
  {
   "cell_type": "code",
   "execution_count": 5,
   "metadata": {},
   "outputs": [
    {
     "data": {
      "text/plain": [
       "91"
      ]
     },
     "execution_count": 5,
     "metadata": {},
     "output_type": "execute_result"
    }
   ],
   "source": [
    "fuzz.ratio(\"001-GILMER 1\", \"001-GILMER\")"
   ]
  },
  {
   "cell_type": "code",
   "execution_count": 6,
   "metadata": {},
   "outputs": [
    {
     "data": {
      "text/plain": [
       "61"
      ]
     },
     "execution_count": 6,
     "metadata": {},
     "output_type": "execute_result"
    }
   ],
   "source": [
    "fuzz.ratio(\"001-GILMER 1\", \"001-LIBERTY\")"
   ]
  },
  {
   "cell_type": "markdown",
   "metadata": {},
   "source": [
    "Confirming the matches are the highest match: "
   ]
  },
  {
   "cell_type": "markdown",
   "metadata": {},
   "source": [
    "Taking an extract of 500 for testing... "
   ]
  },
  {
   "cell_type": "code",
   "execution_count": 29,
   "metadata": {},
   "outputs": [],
   "source": [
    "test_dict = dict(list(election_vest_id_changes_dict.items())[0:500])"
   ]
  },
  {
   "cell_type": "code",
   "execution_count": 47,
   "metadata": {},
   "outputs": [
    {
     "name": "stderr",
     "output_type": "stream",
     "text": [
      "100%|██████████| 500/500 [00:04<00:00, 124.70it/s]\n"
     ]
    }
   ],
   "source": [
    "highest_ratios_dict = {}\n",
    "for key in tqdm(test_dict.keys()): \n",
    "    ratios = process.extract(key, test_dict.values(), limit=1, scorer = fuzz.token_set_ratio)\n",
    "    highest_ratios_dict[key] = ratios[0][0]\n"
   ]
  },
  {
   "cell_type": "code",
   "execution_count": 49,
   "metadata": {},
   "outputs": [
    {
     "name": "stdout",
     "output_type": "stream",
     "text": [
      "Best string comparison for  025-HARTER 3  is:  025-HARTER V , we said:  025-HARTER III\n",
      "Best string comparison for  025-HARTER 1  is:  025-HARTER V , we said:  025-HARTER I\n",
      "Best string comparison for  025-HARTER 6  is:  025-HARTER V , we said:  025-HARTER VI\n",
      "Best string comparison for  025-LOUISVILLE 2  is:  025-LOUISVILLE I , we said:  025-LOUISVILLE II\n",
      "Best string comparison for  025-HARTER 7  is:  025-HARTER V , we said:  025-HARTER VII\n",
      "Best string comparison for  025-HARTER 4  is:  025-HARTER V , we said:  025-HARTER IV\n",
      "Best string comparison for  031-7600027  is:  031-RICH 27 , we said:  031-HANOVER 27\n",
      "Best string comparison for  031-8300051  is:  031-RICH 30 , we said:  031-NORTHFIELD 51\n",
      "Best string comparison for  031-7502001  is:  031-RICH 21 , we said:  031-EVANSTON 2-1\n",
      "Best string comparison for  031-7100038  is:  031-RICH 18 , we said:  031-BLOOM 38\n",
      "Best string comparison for  031-8500031  is:  031-WD 25 PCT 31 , we said:  031-OAK PARK 31\n",
      "Best string comparison for  031-8500020  is:  031-RICH 20 , we said:  031-OAK PARK 20\n",
      "Best string comparison for  031-7507002  is:  031-WD 32 PCT 07 , we said:  031-EVANSTON 7-2\n",
      "Best string comparison for  031-8500017  is:  031-WD 27 PCT 01 , we said:  031-OAK PARK 17\n",
      "Best string comparison for  031-8500016  is:  031-WD 04 PCT 16 , we said:  031-OAK PARK 16\n",
      "Best string comparison for  031-7507001  is:  031-WD 07 PCT 09 , we said:  031-EVANSTON 7-1\n",
      "Best string comparison for  031-7506001  is:  031-LYONS 60 , we said:  031-EVANSTON 6-1\n",
      "Best string comparison for  031-7504004  is:  031-WD 42 PCT 04 , we said:  031-EVANSTON 4-4\n",
      "Best string comparison for  031-8100002  is:  031-RICH 12 , we said:  031-NEW TRIER 2\n",
      "Best string comparison for  031-8500028  is:  031-WD 02 PCT 08 , we said:  031-OAK PARK 28\n",
      "Best string comparison for  031-9000008  is:  031-WD 02 PCT 08 , we said:  031-RICH 8\n",
      "Best string comparison for  031-8000030  is:  031-RICH 30 , we said:  031-MAINE 30\n",
      "Best string comparison for  031-8100001  is:  031-WD 10 PCT 15 , we said:  031-NEW TRIER 1\n",
      "Best string comparison for  031-8500003  is:  031-NILES 53 , we said:  031-OAK PARK 3\n",
      "Best string comparison for  031-7501004  is:  031-WD 04 PCT 01 , we said:  031-EVANSTON 1-4\n",
      "Best string comparison for  031-8500006  is:  031-WD 03 PCT 06 , we said:  031-OAK PARK 6\n",
      "Best string comparison for  031-8500015  is:  031-RICH 15 , we said:  031-OAK PARK 15\n",
      "Best string comparison for  031-8500035  is:  031-WD 03 PCT 25 , we said:  031-OAK PARK 35\n",
      "Best string comparison for  031-7506005  is:  031-LYONS 60 , we said:  031-EVANSTON 6-5\n",
      "Best string comparison for  031-8300028  is:  031-RICH 30 , we said:  031-NORTHFIELD 28\n",
      "Best string comparison for  031-8500002  is:  031-WD 02 PCT 01 , we said:  031-OAK PARK 2\n",
      "Best string comparison for  031-7502004  is:  031-WD 04 PCT 02 , we said:  031-EVANSTON 2-4\n",
      "Best string comparison for  031-7900016  is:  031-WD 04 PCT 16 , we said:  031-LYONS 16\n",
      "Best string comparison for  031-7507005  is:  031-WD 02 PCT 05 , we said:  031-EVANSTON 7-5\n",
      "Best string comparison for  031-7509003  is:  031-NILES 53 , we said:  031-EVANSTON 9-3\n",
      "Best string comparison for  031-8900071  is:  031-WD 04 PCT 07 , we said:  031-PROVISO 71\n",
      "Best string comparison for  031-7100024  is:  031-RICH 12 , we said:  031-BLOOM 24\n",
      "Best string comparison for  031-8900034  is:  031-WD 03 PCT 34 , we said:  031-PROVISO 34\n",
      "Best string comparison for  031-7505002  is:  031-WD 05 PCT 23 , we said:  031-EVANSTON 5-2\n",
      "Best string comparison for  031-8500036  is:  031-RICH 36 , we said:  031-OAK PARK 36\n",
      "Best string comparison for  031-WARD 25 PRECINCT 03  is:  031-WD 03 PCT 25 , we said:  031-WD 25 PCT 03\n",
      "Best string comparison for  031-7506007  is:  031-LYONS 60 , we said:  031-EVANSTON 6-7\n",
      "Best string comparison for  031-7508005  is:  031-WD 02 PCT 05 , we said:  031-EVANSTON 8-5\n",
      "Best string comparison for  031-8200038  is:  031-RICH 23 , we said:  031-NILES 38\n",
      "Best string comparison for  031-7503002  is:  031-RICH 30 , we said:  031-EVANSTON 3-2\n",
      "Best string comparison for  031-8500030  is:  031-RICH 30 , we said:  031-OAK PARK 30\n",
      "Best string comparison for  031-8200021  is:  031-RICH 21 , we said:  031-NILES 21\n",
      "Best string comparison for  031-7504006  is:  031-RICH 46 , we said:  031-EVANSTON 4-6\n",
      "Best string comparison for  031-8200007  is:  031-RICH 27 , we said:  031-NILES 7\n",
      "Best string comparison for  031-9300001  is:  031-RICH 30 , we said:  031-SCHAUMBURG 1\n",
      "Best string comparison for  031-8500005  is:  031-WD 02 PCT 05 , we said:  031-OAK PARK 5\n",
      "Best string comparison for  031-8100036  is:  031-RICH 36 , we said:  031-NEW TRIER 36\n",
      "Best string comparison for  031-9500077  is:  031-WD 04 PCT 07 , we said:  031-THORNTON 77\n",
      "Best string comparison for  031-8500019  is:  031-NILES 59 , we said:  031-OAK PARK 19\n",
      "Best string comparison for  031-8300012  is:  031-RICH 30 , we said:  031-NORTHFIELD 12\n",
      "Best string comparison for  031-9500120  is:  031-RICH 12 , we said:  031-THORNTON 120\n",
      "Best string comparison for  031-7508001  is:  031-WD 40 PCT 08 , we said:  031-EVANSTON 8-1\n",
      "Best string comparison for  031-8900082  is:  031-WD 02 PCT 08 , we said:  031-PROVISO 82\n",
      "Best string comparison for  031-7503005  is:  031-RICH 30 , we said:  031-EVANSTON 3-5\n",
      "Best string comparison for  031-9100008  is:  031-RICH 18 , we said:  031-RIVER FOREST 8\n",
      "Best string comparison for  031-8900050  is:  031-WD 02 PCT 05 , we said:  031-PROVISO 50\n",
      "Best string comparison for  031-9908001  is:  031-WD 40 PCT 08 , we said:  031-BERWYN 8-1\n",
      "Best string comparison for  031-8200053  is:  031-RICH 23 , we said:  031-NILES 53\n",
      "Best string comparison for  031-8200059  is:  031-RICH 25 , we said:  031-NILES 59\n",
      "Best string comparison for  031-7200040  is:  031-RICH 20 , we said:  031-BREMEN 40\n",
      "Best string comparison for  031-8500014  is:  031-WD 44 PCT 01 , we said:  031-OAK PARK 14\n",
      "Best string comparison for  031-9000006  is:  031-WD 03 PCT 06 , we said:  031-RICH 6\n",
      "Best string comparison for  031-8100013  is:  031-BLOOM 13 , we said:  031-NEW TRIER 13\n",
      "Best string comparison for  031-9300002  is:  031-RICH 30 , we said:  031-SCHAUMBURG 2\n",
      "Best string comparison for  031-8900067  is:  031-WD 03 PCT 06 , we said:  031-PROVISO 67\n",
      "Best string comparison for  031-7503001  is:  031-RICH 30 , we said:  031-EVANSTON 3-1\n",
      "Best string comparison for  031-8200049  is:  031-WD 49 PCT 20 , we said:  031-NILES 49\n",
      "Best string comparison for  031-8100004  is:  031-WD 46 PCT 10 , we said:  031-NEW TRIER 4\n",
      "Best string comparison for  031-9905001  is:  031-RICH 1 , we said:  031-BERWYN 5-1\n",
      "Best string comparison for  031-8900090  is:  031-WD 07 PCT 09 , we said:  031-PROVISO 90\n",
      "Best string comparison for  031-9000003  is:  031-WD 03 PCT 01 , we said:  031-RICH 3\n",
      "Best string comparison for  031-8500004  is:  031-WD 04 PCT 01 , we said:  031-OAK PARK 4\n",
      "Best string comparison for  031-8300021  is:  031-RICH 30 , we said:  031-NORTHFIELD 21\n",
      "Best string comparison for  031-9902004  is:  031-WD 04 PCT 02 , we said:  031-BERWYN 2-4\n",
      "Best string comparison for  031-7200029  is:  031-RICH 20 , we said:  031-BREMEN 29\n",
      "Best string comparison for  031-9500054  is:  031-WD 04 PCT 01 , we said:  031-THORNTON 54\n",
      "Best string comparison for  031-8200016  is:  031-RICH 21 , we said:  031-NILES 16\n",
      "Best string comparison for  031-8200003  is:  031-RICH 23 , we said:  031-NILES 3\n",
      "Best string comparison for  031-7509004  is:  031-WD 04 PCT 01 , we said:  031-EVANSTON 9-4\n",
      "Best string comparison for  031-9100001  is:  031-WD 10 PCT 15 , we said:  031-RIVER FOREST 1\n",
      "Best string comparison for  031-8500023  is:  031-RICH 23 , we said:  031-OAK PARK 23\n",
      "Best string comparison for  031-7400034  is:  031-RICH 43 , we said:  031-ELK GROVE 34\n",
      "Best string comparison for  031-7300006  is:  031-RICH 36 , we said:  031-CALUMET 6\n",
      "Best string comparison for  031-9500035  is:  031-WD 03 PCT 25 , we said:  031-THORNTON 35\n",
      "Best string comparison for  031-7600020  is:  031-RICH 20 , we said:  031-HANOVER 20\n",
      "Best string comparison for  031-8100015  is:  031-WD 10 PCT 15 , we said:  031-NEW TRIER 15\n",
      "Best string comparison for  031-8300018  is:  031-RICH 30 , we said:  031-NORTHFIELD 18\n",
      "Best string comparison for  031-8000009  is:  031-WD 07 PCT 09 , we said:  031-MAINE 9\n",
      "Best string comparison for  031-9500038  is:  031-BLOOM 38 , we said:  031-THORNTON 38\n",
      "Best string comparison for  031-8100016  is:  031-WD 46 PCT 10 , we said:  031-NEW TRIER 16\n",
      "Best string comparison for  031-9500073  is:  031-NILES 53 , we said:  031-THORNTON 73\n",
      "Best string comparison for  031-8900018  is:  031-RICH 18 , we said:  031-PROVISO 18\n",
      "Best string comparison for  031-8200061  is:  031-RICH 21 , we said:  031-NILES 61\n",
      "Best string comparison for  031-8100024  is:  031-RICH 12 , we said:  031-NEW TRIER 24\n",
      "Best string comparison for  031-7503003  is:  031-RICH 30 , we said:  031-EVANSTON 3-3\n",
      "Best string comparison for  031-9500066  is:  031-WD 03 PCT 06 , we said:  031-THORNTON 66\n",
      "Best string comparison for  031-7600001  is:  031-LYONS 60 , we said:  031-HANOVER 1\n",
      "Best string comparison for  031-7501002  is:  031-WD 02 PCT 01 , we said:  031-EVANSTON 1-2\n",
      "Best string comparison for  031-8100020  is:  031-RICH 12 , we said:  031-NEW TRIER 20\n",
      "Best string comparison for  031-8500010  is:  031-WD 04 PCT 01 , we said:  031-OAK PARK 10\n",
      "Best string comparison for  031-8900054  is:  031-WD 04 PCT 01 , we said:  031-PROVISO 54\n",
      "Best string comparison for  031-9500034  is:  031-WD 03 PCT 34 , we said:  031-THORNTON 34\n",
      "Best string comparison for  031-7300011  is:  031-RICH 30 , we said:  031-CALUMET 11\n",
      "Best string comparison for  031-7100045  is:  031-RICH 15 , we said:  031-BLOOM 45\n",
      "Best string comparison for  031-9600041  is:  031-WD 04 PCT 16 , we said:  031-WHEELING 41\n",
      "Best string comparison for  031-9500087  is:  031-WD 02 PCT 08 , we said:  031-THORNTON 87\n",
      "Best string comparison for  031-8200060  is:  031-RICH 26 , we said:  031-NILES 60\n",
      "Best string comparison for  031-8200033  is:  031-WD 33 PCT 20 , we said:  031-NILES 33\n",
      "Best string comparison for  031-8500008  is:  031-WD 02 PCT 08 , we said:  031-OAK PARK 8\n",
      "Best string comparison for  031-8100033  is:  031-WD 03 PCT 39 , we said:  031-NEW TRIER 33\n",
      "Best string comparison for  031-8900066  is:  031-WD 03 PCT 06 , we said:  031-PROVISO 66\n",
      "Best string comparison for  031-8500013  is:  031-BLOOM 13 , we said:  031-OAK PARK 13\n",
      "Best string comparison for  031-8100011  is:  031-WD 01 PCT 21 , we said:  031-NEW TRIER 11\n",
      "Best string comparison for  031-8300007  is:  031-RICH 30 , we said:  031-NORTHFIELD 7\n",
      "Best string comparison for  031-7506004  is:  031-WD 44 PCT 06 , we said:  031-EVANSTON 6-4\n",
      "Best string comparison for  031-9000005  is:  031-WD 02 PCT 05 , we said:  031-RICH 5\n",
      "Best string comparison for  031-8300046  is:  031-RICH 36 , we said:  031-NORTHFIELD 46\n",
      "Best string comparison for  031-7900020  is:  031-RICH 20 , we said:  031-LYONS 20\n",
      "Best string comparison for  031-9600049  is:  031-WD 49 PCT 20 , we said:  031-WHEELING 49\n",
      "Best string comparison for  031-8200064  is:  031-RICH 26 , we said:  031-NILES 64\n",
      "Best string comparison for  031-7100014  is:  031-WD 46 PCT 10 , we said:  031-BLOOM 14\n",
      "Best string comparison for  031-WARD 01 PRECINCT 03  is:  031-WD 03 PCT 01 , we said:  031-WD 01 PCT 03\n",
      "Best string comparison for  031-7900021  is:  031-RICH 21 , we said:  031-LYONS 21\n",
      "Best string comparison for  031-WARD 02 PRECINCT 33  is:  031-WD 33 PCT 02 , we said:  031-WD 02 PCT 33\n",
      "Best string comparison for  031-9500021  is:  031-RICH 21 , we said:  031-THORNTON 21\n",
      "Best string comparison for  031-8500025  is:  031-RICH 25 , we said:  031-OAK PARK 25\n",
      "Best string comparison for  031-8900083  is:  031-WD 02 PCT 08 , we said:  031-PROVISO 83\n",
      "Best string comparison for  031-7503006  is:  031-WD 03 PCT 06 , we said:  031-EVANSTON 3-6\n",
      "Best string comparison for  031-9500083  is:  031-NILES 53 , we said:  031-THORNTON 83\n",
      "Best string comparison for  031-8100030  is:  031-RICH 30 , we said:  031-NEW TRIER 30\n",
      "Best string comparison for  031-8300047  is:  031-WD 47 PCT 30 , we said:  031-NORTHFIELD 47\n",
      "Best string comparison for  031-9500089  is:  031-NILES 59 , we said:  031-THORNTON 89\n",
      "Best string comparison for  031-8300032  is:  031-RICH 30 , we said:  031-NORTHFIELD 32\n",
      "Best string comparison for  031-7100036  is:  031-RICH 36 , we said:  031-BLOOM 36\n",
      "Best string comparison for  031-9600064  is:  031-WD 44 PCT 06 , we said:  031-WHEELING 64\n",
      "Best string comparison for  031-8200063  is:  031-RICH 23 , we said:  031-NILES 63\n",
      "Best string comparison for  031-9600084  is:  031-WD 44 PCT 08 , we said:  031-WHEELING 84\n",
      "Best string comparison for  031-9500084  is:  031-WD 44 PCT 08 , we said:  031-THORNTON 84\n",
      "Best string comparison for  031-WARD 03 PRECINCT 33  is:  031-WD 33 PCT 03 , we said:  031-WD 03 PCT 33\n",
      "Best string comparison for  031-9600071  is:  031-LYONS 60 , we said:  031-WHEELING 71\n",
      "Best string comparison for  031-9500122  is:  031-RICH 12 , we said:  031-THORNTON 122\n",
      "Best string comparison for  031-8200017  is:  031-RICH 21 , we said:  031-NILES 17\n",
      "Best string comparison for  031-WARD 01 PRECINCT 04  is:  031-WD 04 PCT 01 , we said:  031-WD 01 PCT 04\n",
      "Best string comparison for  031-9700059  is:  031-NILES 59 , we said:  031-WORTH 59\n",
      "Best string comparison for  031-8200014  is:  031-RICH 21 , we said:  031-NILES 14\n",
      "Best string comparison for  031-9600078  is:  031-LYONS 60 , we said:  031-WHEELING 78\n",
      "Best string comparison for  031-9100004  is:  031-WD 46 PCT 10 , we said:  031-RIVER FOREST 4\n",
      "Best string comparison for  031-7502003  is:  031-WD 02 PCT 03 , we said:  031-EVANSTON 2-3\n",
      "Best string comparison for  031-8700040  is:  031-WD 04 PCT 01 , we said:  031-PALATINE 40\n",
      "Best string comparison for  031-8300060  is:  031-RICH 36 , we said:  031-NORTHFIELD 60\n",
      "Best string comparison for  031-9500107  is:  031-WD 27 PCT 01 , we said:  031-THORNTON 107\n",
      "Best string comparison for  031-9500006  is:  031-WD 03 PCT 06 , we said:  031-THORNTON 6\n",
      "Best string comparison for  031-7200063  is:  031-RICH 23 , we said:  031-BREMEN 63\n",
      "Best string comparison for  031-8700059  is:  031-NILES 59 , we said:  031-PALATINE 59\n",
      "Best string comparison for  031-9600027  is:  031-RICH 27 , we said:  031-WHEELING 27\n",
      "Best string comparison for  031-7100041  is:  031-WD 46 PCT 10 , we said:  031-BLOOM 41\n",
      "Best string comparison for  031-8000060  is:  031-LYONS 60 , we said:  031-MAINE 60\n",
      "Best string comparison for  031-9000009  is:  031-WD 07 PCT 09 , we said:  031-RICH 9\n",
      "Best string comparison for  031-8900062  is:  031-WD 32 PCT 06 , we said:  031-PROVISO 62\n",
      "Best string comparison for  031-9600092  is:  031-LYONS 60 , we said:  031-WHEELING 92\n",
      "Best string comparison for  031-9500027  is:  031-RICH 27 , we said:  031-THORNTON 27\n",
      "Best string comparison for  031-9700004  is:  031-WD 04 PCT 01 , we said:  031-WORTH 4\n",
      "Best string comparison for  031-8500026  is:  031-RICH 26 , we said:  031-OAK PARK 26\n",
      "Best string comparison for  031-8100038  is:  031-RICH 18 , we said:  031-NEW TRIER 38\n",
      "Best string comparison for  031-9800001  is:  031-RICH 1 , we said:  031-CICERO 1\n",
      "Best string comparison for  031-8900076  is:  031-WD 03 PCT 06 , we said:  031-PROVISO 76\n",
      "Best string comparison for  031-8900048  is:  031-WD 04 PCT 01 , we said:  031-PROVISO 48\n",
      "Best string comparison for  031-8300045  is:  031-RICH 30 , we said:  031-NORTHFIELD 45\n",
      "Best string comparison for  031-7900004  is:  031-WD 04 PCT 01 , we said:  031-LYONS 4\n",
      "Best string comparison for  031-9300044  is:  031-WD 44 PCT 30 , we said:  031-SCHAUMBURG 44\n",
      "Best string comparison for  031-9200004  is:  031-RICH 20 , we said:  031-RIVERSIDE 4\n",
      "Best string comparison for  031-8700041  is:  031-WD 04 PCT 16 , we said:  031-PALATINE 41\n",
      "Best string comparison for  031-8200044  is:  031-WD 44 PCT 20 , we said:  031-NILES 44\n",
      "Best string comparison for  031-7501003  is:  031-WD 03 PCT 01 , we said:  031-EVANSTON 1-3\n",
      "Best string comparison for  031-7505003  is:  031-WD 05 PCT 23 , we said:  031-EVANSTON 5-3\n",
      "Best string comparison for  031-9600036  is:  031-RICH 36 , we said:  031-WHEELING 36\n",
      "Best string comparison for  031-8500029  is:  031-NILES 59 , we said:  031-OAK PARK 29\n",
      "Best string comparison for  031-7508004  is:  031-WD 44 PCT 08 , we said:  031-EVANSTON 8-4\n",
      "Best string comparison for  031-8900092  is:  031-WD 42 PCT 09 , we said:  031-PROVISO 92\n",
      "Best string comparison for  031-7600028  is:  031-LYONS 60 , we said:  031-HANOVER 28\n",
      "Best string comparison for  031-9600046  is:  031-RICH 46 , we said:  031-WHEELING 46\n",
      "Best string comparison for  031-8900024  is:  031-BLOOM 24 , we said:  031-PROVISO 24\n",
      "Best string comparison for  031-7800023  is:  031-RICH 23 , we said:  031-LEYDEN 23\n",
      "Best string comparison for  031-8100027  is:  031-RICH 27 , we said:  031-NEW TRIER 27\n",
      "Best string comparison for  031-8500011  is:  031-WD 01 PCT 21 , we said:  031-OAK PARK 11\n",
      "Best string comparison for  031-WARD 01 PRECINCT 27  is:  031-WD 27 PCT 01 , we said:  031-WD 01 PCT 27\n",
      "Best string comparison for  031-8900033  is:  031-WD 03 PCT 39 , we said:  031-PROVISO 33\n",
      "Best string comparison for  031-9600026  is:  031-RICH 26 , we said:  031-WHEELING 26\n",
      "Best string comparison for  031-8900026  is:  031-RICH 26 , we said:  031-PROVISO 26\n",
      "Best string comparison for  031-8200041  is:  031-RICH 21 , we said:  031-NILES 41\n",
      "Best string comparison for  031-7000008  is:  031-WD 02 PCT 08 , we said:  031-BARRINGTON 8\n",
      "196\n"
     ]
    }
   ],
   "source": [
    "diffs = 0\n",
    "for key in highest_ratios_dict.keys():\n",
    "    if highest_ratios_dict[key] != test_dict[key]: \n",
    "        diffs += 1\n",
    "        print('Best string comparison for ', key, ' is: ', highest_ratios_dict[key], ', we said: ', election_vest_id_changes_dict[key])\n",
    "\n",
    "print(diffs)"
   ]
  },
  {
   "cell_type": "code",
   "execution_count": null,
   "metadata": {},
   "outputs": [],
   "source": []
  }
 ],
 "metadata": {
  "kernelspec": {
   "display_name": "Python 3",
   "language": "python",
   "name": "python3"
  },
  "language_info": {
   "codemirror_mode": {
    "name": "ipython",
    "version": 3
   },
   "file_extension": ".py",
   "mimetype": "text/x-python",
   "name": "python",
   "nbconvert_exporter": "python",
   "pygments_lexer": "ipython3",
   "version": "3.8.3"
  }
 },
 "nbformat": 4,
 "nbformat_minor": 4
}
